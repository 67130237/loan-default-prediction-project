{
 "cells": [
  {
   "cell_type": "markdown",
   "id": "83a28dc4",
   "metadata": {},
   "source": [
    "# Loan Default Prediction - Data Cleaning & Model Training"
   ]
  },
  {
   "cell_type": "code",
   "execution_count": null,
   "id": "d11eaad9",
   "metadata": {},
   "outputs": [],
   "source": [
    "\n",
    "import pandas as pd\n",
    "from sklearn.model_selection import train_test_split\n",
    "from sklearn.preprocessing import LabelEncoder\n",
    "from sklearn.linear_model import LogisticRegression\n",
    "from sklearn.metrics import classification_report\n",
    "import joblib\n"
   ]
  },
  {
   "cell_type": "markdown",
   "id": "981095ea",
   "metadata": {},
   "source": [
    "## Step 1: Load the dataset"
   ]
  },
  {
   "cell_type": "code",
   "execution_count": null,
   "id": "ea6e9805",
   "metadata": {},
   "outputs": [],
   "source": [
    "\n",
    "df = pd.read_csv(\"train-dataset - Copy.csv\")\n",
    "df.head()\n"
   ]
  },
  {
   "cell_type": "markdown",
   "id": "48489f0f",
   "metadata": {},
   "source": [
    "## Step 2: Drop rows with missing values"
   ]
  },
  {
   "cell_type": "code",
   "execution_count": null,
   "id": "fb412c9e",
   "metadata": {},
   "outputs": [],
   "source": [
    "\n",
    "df_cleaned = df.dropna()\n",
    "df_cleaned.shape\n"
   ]
  },
  {
   "cell_type": "markdown",
   "id": "37c02f6e",
   "metadata": {},
   "source": [
    "## Step 3: Select useful features and target"
   ]
  },
  {
   "cell_type": "code",
   "execution_count": null,
   "id": "32403d0b",
   "metadata": {},
   "outputs": [],
   "source": [
    "\n",
    "selected_features = [\n",
    "    'Loan Amount', 'Funded Amount', 'Funded Amount Investor', 'Term',\n",
    "    'Interest Rate', 'Grade', 'Employment Duration', 'Home Ownership',\n",
    "    'Annual Income', 'Verification Status', 'Purpose', 'Debt-To-Income Ratio',\n",
    "    'State', 'Total Accounts', 'Application Type'\n",
    "]\n",
    "\n",
    "X = df_cleaned[selected_features]\n",
    "y = df_cleaned['Loan Status']\n"
   ]
  },
  {
   "cell_type": "markdown",
   "id": "9ea65c41",
   "metadata": {},
   "source": [
    "## Step 4: Encode categorical features"
   ]
  },
  {
   "cell_type": "code",
   "execution_count": null,
   "id": "3a623a45",
   "metadata": {},
   "outputs": [],
   "source": [
    "\n",
    "categorical_cols = X.select_dtypes(include=['object']).columns.tolist()\n",
    "label_encoders = {}\n",
    "\n",
    "for col in categorical_cols:\n",
    "    le = LabelEncoder()\n",
    "    X[col] = le.fit_transform(X[col])\n",
    "    label_encoders[col] = le\n"
   ]
  },
  {
   "cell_type": "markdown",
   "id": "2a98a6e4",
   "metadata": {},
   "source": [
    "## Step 5: Train/test split"
   ]
  },
  {
   "cell_type": "code",
   "execution_count": null,
   "id": "775a57a9",
   "metadata": {},
   "outputs": [],
   "source": [
    "\n",
    "X_train, X_test, y_train, y_test = train_test_split(X, y, test_size=0.2, random_state=42)\n"
   ]
  },
  {
   "cell_type": "markdown",
   "id": "3c94bc6a",
   "metadata": {},
   "source": [
    "## Step 6: Train Logistic Regression model"
   ]
  },
  {
   "cell_type": "code",
   "execution_count": null,
   "id": "d93c4702",
   "metadata": {},
   "outputs": [],
   "source": [
    "\n",
    "model = LogisticRegression(max_iter=1000)\n",
    "model.fit(X_train, y_train)\n"
   ]
  },
  {
   "cell_type": "markdown",
   "id": "1128d3d2",
   "metadata": {},
   "source": [
    "## Step 7: Evaluate the model"
   ]
  },
  {
   "cell_type": "code",
   "execution_count": null,
   "id": "54dd7a59",
   "metadata": {},
   "outputs": [],
   "source": [
    "\n",
    "y_pred = model.predict(X_test)\n",
    "print(classification_report(y_test, y_pred))\n"
   ]
  },
  {
   "cell_type": "markdown",
   "id": "306602aa",
   "metadata": {},
   "source": [
    "## Step 8: Save the model and encoders"
   ]
  },
  {
   "cell_type": "code",
   "execution_count": null,
   "id": "21a00dd4",
   "metadata": {},
   "outputs": [],
   "source": [
    "\n",
    "joblib.dump(model, \"loan_default_model.pkl\")\n",
    "joblib.dump(label_encoders, \"label_encoders.pkl\")\n"
   ]
  }
 ],
 "metadata": {},
 "nbformat": 4,
 "nbformat_minor": 5
}
