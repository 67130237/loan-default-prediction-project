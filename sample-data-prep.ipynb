import pandas as pd
from sklearn.model_selection import train_test_split
from sklearn.preprocessing import LabelEncoder
from sklearn.linear_model import LogisticRegression
from sklearn.metrics import classification_report
import joblib

# Step 1: Load the dataset
df = pd.read_csv("train-dataset.csv")

# Step 2: Drop rows with missing values
df_cleaned = df.dropna()

# Step 3: Select useful features and target
selected_features = [
    'Loan Amount', 'Funded Amount', 'Funded Amount Investor', 'Term',
    'Interest Rate', 'Grade', 'Employment Duration', 'Home Ownership',
    'Annual Income', 'Verification Status', 'Purpose', 'Debt-To-Income Ratio',
    'State', 'Total Accounts', 'Application Type'
]

X = df_cleaned[selected_features]
y = df_cleaned['Loan Status']  # 0 = No Default, 1 = Default

# Step 4: Encode categorical features
categorical_cols = X.select_dtypes(include=['object']).columns.tolist()
label_encoders = {}

for col in categorical_cols:
    le = LabelEncoder()
    X[col] = le.fit_transform(X[col])
    label_encoders[col] = le

# Step 5: Train/test split
X_train, X_test, y_train, y_test = train_test_split(X, y, test_size=0.2, random_state=42)

# Step 6: Train logistic regression model
model = LogisticRegression(max_iter=1000)
model.fit(X_train, y_train)

# Step 7: Evaluate (optional)
y_pred = model.predict(X_test)
print(classification_report(y_test, y_pred))

# Step 8: Save the model and encoders
joblib.dump(model, "loan_default_model.pkl")
joblib.dump(label_encoders, "label_encoders.pkl")
